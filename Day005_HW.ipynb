{
 "cells": [
  {
   "cell_type": "markdown",
   "metadata": {},
   "source": [
    "# API 資料串接 - 以 Dcard API 實作範例\n",
    "\n",
    "* 了解 Dcard API 使用方式與回傳內容\n",
    "* 撰寫程式存取 API 且解析 JSON 格式資料\n"
   ]
  },
  {
   "cell_type": "markdown",
   "metadata": {},
   "source": [
    "## 作業目標\n",
    "\n",
    "* 請利用 API: https://www.dcard.tw/_api/forums/pet/posts?popular=true 回答下列問題：\n",
    "\n",
    "1. 這個 API 一次會回傳幾筆資料？每一筆資料包含哪些欄位？\n",
    "2. 取出每一筆資料的「標題」、「貼文時間」、「留言人數」、「按讚人數」\n",
    "3. 計算熱門/非熱門文章的「平均留言人數」與「平均按讚人數」"
   ]
  },
  {
   "cell_type": "code",
   "execution_count": 2,
   "metadata": {},
   "outputs": [
    {
     "name": "stdout",
     "output_type": "stream",
     "text": [
      "回傳資料筆數: 30\n",
      "每筆資料包含:\n",
      "id\n",
      "title\n",
      "excerpt\n",
      "anonymousSchool\n",
      "anonymousDepartment\n",
      "pinned\n",
      "forumId\n",
      "replyId\n",
      "createdAt\n",
      "updatedAt\n",
      "commentCount\n",
      "likeCount\n",
      "withNickname\n",
      "tags\n",
      "topics\n",
      "meta\n",
      "forumName\n",
      "forumAlias\n",
      "nsfw\n",
      "gender\n",
      "school\n",
      "department\n",
      "replyTitle\n",
      "mediaMeta\n",
      "reactions\n",
      "hidden\n",
      "customStyle\n",
      "isSuspiciousAccount\n",
      "isModerator\n",
      "layout\n",
      "withImages\n",
      "withVideos\n",
      "media\n",
      "reportReasonText\n",
      "excerptComments\n",
      "postAvatar\n",
      "verifiedBadge\n"
     ]
    }
   ],
   "source": [
    "# 1. 這個 API 一次會回傳幾筆資料？每一筆資料包含哪些欄位？\n",
    "\n",
    "import requests\n",
    "\n",
    "#引入函式庫\n",
    "\n",
    "r=requests.get('https://www.dcard.tw/_api/forums/pet/posts?popular=true')  #想要爬打資料的網址\n",
    "\n",
    "response=r.text  #模擬發送請求的動作\n",
    "\n",
    "import json\n",
    "data=json.loads(response)\n",
    "print('回傳資料筆數:',len(data))\n",
    "print('每筆資料包含:')\n",
    "for i in data[1]:\n",
    "    print(i)"
   ]
  },
  {
   "cell_type": "code",
   "execution_count": 5,
   "metadata": {},
   "outputs": [
    {
     "name": "stdout",
     "output_type": "stream",
     "text": [
      "標題: 睡姿會遺傳  貼文時間: 2020-10-25T04:35:34.334Z  留言人數: 34  按讀人數: 1108\n",
      "標題: 又是不牽繩的智障  貼文時間: 2020-10-25T13:29:31.052Z  留言人數: 67  按讀人數: 444\n",
      "標題: 每天回家貓咪都在裝死  貼文時間: 2020-10-26T05:48:23.342Z  留言人數: 21  按讀人數: 258\n",
      "標題: 塞奶真的會被融化  貼文時間: 2020-10-25T06:47:11.448Z  留言人數: 6  按讀人數: 177\n",
      "標題: 你離開去當天使了🐱  貼文時間: 2020-10-25T12:01:47.173Z  留言人數: 15  按讀人數: 117\n",
      "標題: 是在思考貓生嗎？  貼文時間: 2020-10-25T02:38:08.519Z  留言人數: 2  按讀人數: 90\n",
      "標題: 關於寵物禮儀分享  貼文時間: 2020-10-25T13:59:30.234Z  留言人數: 8  按讀人數: 61\n",
      "標題: 柴犬打哈欠  貼文時間: 2020-10-25T12:29:55.877Z  留言人數: 3  按讀人數: 34\n",
      "標題: #貓 你怎麼可以差那麼多😢（Part 3 松露篇）  貼文時間: 2020-10-25T15:20:39.080Z  留言人數: 2  按讀人數: 31\n",
      "標題: 我養了一隻狐獴貓  貼文時間: 2020-10-25T19:04:21.509Z  留言人數: 5  按讀人數: 30\n",
      "標題: 貓咪的奇怪睡姿🤣  貼文時間: 2020-10-25T03:02:48.835Z  留言人數: 3  按讀人數: 22\n",
      "標題: 繁殖場丟出的貓  貼文時間: 2020-10-26T07:57:45.951Z  留言人數: 3  按讀人數: 17\n",
      "標題: 蛤！  貼文時間: 2020-10-25T06:14:36.332Z  留言人數: 4  按讀人數: 12\n",
      "標題: 雨天與貓（⚠️注意！內含橘貓  貼文時間: 2020-10-26T07:06:28.860Z  留言人數: 1  按讀人數: 11\n",
      "標題: 你買得很開心 你看起來沒有被霸凌  貼文時間: 2020-10-26T05:39:27.276Z  留言人數: 23  按讀人數: 10\n",
      "標題: 憂鬱無處安放的貓  貼文時間: 2020-10-26T11:22:35.378Z  留言人數: 3  按讀人數: 9\n",
      "標題: #影 當初那隻牆壁裡的貓  貼文時間: 2020-10-25T16:36:29.042Z  留言人數: 0  按讀人數: 7\n",
      "標題: 柴犬不會叫？  貼文時間: 2020-10-25T16:16:46.518Z  留言人數: 6  按讀人數: 7\n",
      "標題: 救援到的你  貼文時間: 2020-10-25T12:12:30.331Z  留言人數: 0  按讀人數: 7\n",
      "標題: 6個月的小貓 對 10幾歲的吉娃娃戰士  貼文時間: 2020-10-26T02:17:19.818Z  留言人數: 0  按讀人數: 6\n",
      "標題: 妮家的布丁🍮  貼文時間: 2020-10-25T16:23:42.975Z  留言人數: 0  按讀人數: 6\n",
      "標題: 學習開清淨機  貼文時間: 2020-10-25T16:16:00.824Z  留言人數: 0  按讀人數: 6\n",
      "標題: 曬曬異色瞳🥺  貼文時間: 2020-10-26T09:52:00.205Z  留言人數: 0  按讀人數: 5\n",
      "標題: 屏東內埔收養狗狗  貼文時間: 2020-10-26T12:11:31.139Z  留言人數: 0  按讀人數: 4\n",
      "標題: 台中寵物展星期六超多柴犬的  貼文時間: 2020-10-26T06:36:31.985Z  留言人數: 1  按讀人數: 4\n",
      "標題: 寵物監視器的網路問題  貼文時間: 2020-10-26T02:17:12.171Z  留言人數: 2  按讀人數: 4\n",
      "標題: 當失去以後 你唯一能做的 就是不要遺忘  貼文時間: 2020-10-25T14:55:19.469Z  留言人數: 3  按讀人數: 4\n",
      "標題: 轉：讓衣下，浪一下 二手衣快閃募集  貼文時間: 2020-10-25T05:25:25.244Z  留言人數: 0  按讀人數: 4\n",
      "標題: 兔子離家出走！  貼文時間: 2020-10-26T11:10:28.002Z  留言人數: 1  按讀人數: 3\n",
      "標題: 這是鵝還是鴨？？  貼文時間: 2020-10-26T05:29:20.229Z  留言人數: 6  按讀人數: 3\n"
     ]
    }
   ],
   "source": [
    "# 2. 取出每一筆資料的「標題」、「貼文時間」、「留言人數」、「按讚人數」\n",
    "\n",
    "\n",
    "\n",
    "\n",
    "for d in data:\n",
    "    print(\"標題:\",d[\"title\"],' 貼文時間:', d[\"createdAt\"], ' 留言人數:',d[\"commentCount\"],' 按讀人數:' ,d[\"likeCount\"] )  \n"
   ]
  },
  {
   "cell_type": "code",
   "execution_count": 9,
   "metadata": {},
   "outputs": [
    {
     "name": "stdout",
     "output_type": "stream",
     "text": [
      "0\n",
      "平均留言人數: 7.3\n",
      "平均按讚人數: 83.36666666666666\n"
     ]
    }
   ],
   "source": [
    "# 3. 計算熱門/非熱門文章的「平均留言人數」與「平均按讚人數」\n",
    "hotcommentCount=0\n",
    "hotlikeCount=0\n",
    "\n",
    "\n",
    "for d in data:\n",
    "    hotcommentCount=hotcommentCount+d['commentCount']\n",
    "    hotlikeCount=hotlikeCount+d['likeCount']\n",
    "\n",
    "print(\"平均留言人數:\",hotcommentCount/len(data))\n",
    "print(\"平均按讚人數:\",hotlikeCount/len(data))\n",
    "\n",
    "    "
   ]
  },
  {
   "cell_type": "code",
   "execution_count": null,
   "metadata": {},
   "outputs": [],
   "source": []
  },
  {
   "cell_type": "code",
   "execution_count": null,
   "metadata": {},
   "outputs": [],
   "source": []
  }
 ],
 "metadata": {
  "kernelspec": {
   "display_name": "Python 3",
   "language": "python",
   "name": "python3"
  },
  "language_info": {
   "codemirror_mode": {
    "name": "ipython",
    "version": 3
   },
   "file_extension": ".py",
   "mimetype": "text/x-python",
   "name": "python",
   "nbconvert_exporter": "python",
   "pygments_lexer": "ipython3",
   "version": "3.8.3"
  }
 },
 "nbformat": 4,
 "nbformat_minor": 2
}
