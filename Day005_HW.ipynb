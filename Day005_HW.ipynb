{
 "cells": [
  {
   "cell_type": "markdown",
   "metadata": {},
   "source": [
    "# API 資料串接 - 以 Dcard API 實作範例\n",
    "\n",
    "* 了解 Dcard API 使用方式與回傳內容\n",
    "* 撰寫程式存取 API 且解析 JSON 格式資料\n"
   ]
  },
  {
   "cell_type": "markdown",
   "metadata": {},
   "source": [
    "## 作業目標\n",
    "\n",
    "* 請利用 API: https://www.dcard.tw/_api/forums/pet/posts?popular=true 回答下列問題：\n",
    "\n",
    "1. 這個 API 一次會回傳幾筆資料？每一筆資料包含哪些欄位？\n",
    "2. 取出每一筆資料的「標題」、「貼文時間」、「留言人數」、「按讚人數」\n",
    "3. 計算熱門/非熱門文章的「平均留言人數」與「平均按讚人數」"
   ]
  },
  {
   "cell_type": "code",
   "execution_count": 2,
   "metadata": {},
   "outputs": [
    {
     "name": "stdout",
     "output_type": "stream",
     "text": [
      "回傳資料筆數: 30\n",
      "每筆資料包含:\n",
      "id\n",
      "title\n",
      "excerpt\n",
      "anonymousSchool\n",
      "anonymousDepartment\n",
      "pinned\n",
      "forumId\n",
      "replyId\n",
      "createdAt\n",
      "updatedAt\n",
      "commentCount\n",
      "likeCount\n",
      "withNickname\n",
      "tags\n",
      "topics\n",
      "meta\n",
      "forumName\n",
      "forumAlias\n",
      "nsfw\n",
      "gender\n",
      "school\n",
      "replyTitle\n",
      "mediaMeta\n",
      "reactions\n",
      "hidden\n",
      "customStyle\n",
      "isSuspiciousAccount\n",
      "isModerator\n",
      "layout\n",
      "withImages\n",
      "withVideos\n",
      "media\n",
      "reportReasonText\n",
      "excerptComments\n",
      "postAvatar\n",
      "verifiedBadge\n"
     ]
    }
   ],
   "source": [
    "# 1. 這個 API 一次會回傳幾筆資料？每一筆資料包含哪些欄位？\n",
    "\n",
    "import requests\n",
    "\n",
    "#引入函式庫\n",
    "\n",
    "r=requests.get('https://www.dcard.tw/_api/forums/pet/posts?popular=true')  #想要爬打資料的網址\n",
    "\n",
    "response=r.text  #模擬發送請求的動作\n",
    "\n",
    "import json\n",
    "data=json.loads(response)\n",
    "print('回傳資料筆數:',len(data))\n",
    "print('每筆資料包含:')\n",
    "for i in data[1]:\n",
    "    print(i)"
   ]
  },
  {
   "cell_type": "code",
   "execution_count": 3,
   "metadata": {},
   "outputs": [
    {
     "name": "stdout",
     "output_type": "stream",
     "text": [
      "標題: 可愛鴨鴨清涼照🥰🥰  貼文時間: 2020-10-13T11:07:20.061Z  留言人數: 218  按讀人數: 2029\n",
      "標題: 拜託請牽繩好嗎？  貼文時間: 2020-10-13T12:20:40.433Z  留言人數: 84  按讀人數: 1368\n",
      "標題: 偽薩摩耶  貼文時間: 2020-10-13T08:24:07.998Z  留言人數: 39  按讀人數: 867\n",
      "標題: 這樣吃手手真的沒問題嗎？  貼文時間: 2020-10-13T11:34:59.494Z  留言人數: 16  按讀人數: 379\n",
      "標題: 原型畢露的貓貓  貼文時間: 2020-10-13T19:01:18.872Z  留言人數: 24  按讀人數: 276\n",
      "標題: 隨地撿到貓娃娃  貼文時間: 2020-10-14T06:32:41.814Z  留言人數: 7  按讀人數: 210\n",
      "標題: 家中貓咪送養😢  貼文時間: 2020-10-13T07:33:09.262Z  留言人數: 14  按讀人數: 110\n",
      "標題: 拜託先評估再決定養貓  貼文時間: 2020-10-13T14:23:37.465Z  留言人數: 17  按讀人數: 95\n",
      "標題: 吃可愛長胖的貓  貼文時間: 2020-10-13T07:09:59.443Z  留言人數: 6  按讀人數: 84\n",
      "標題: 大狗的好處  貼文時間: 2020-10-14T05:00:19.625Z  留言人數: 3  按讀人數: 41\n",
      "標題: 兩位新來的小朋友  貼文時間: 2020-10-13T12:56:38.426Z  留言人數: 4  按讀人數: 31\n",
      "標題: 有人家的狗也長的像海豹嗎🤣  貼文時間: 2020-10-14T04:22:24.157Z  留言人數: 4  按讀人數: 23\n",
      "標題: #貓咪送養 新北 兩隻都是女生哦  貼文時間: 2020-10-13T08:24:13.202Z  留言人數: 2  按讀人數: 23\n",
      "標題: 是在兇什麼！！  貼文時間: 2020-10-14T04:23:49.532Z  留言人數: 2  按讀人數: 22\n",
      "標題: 很愛呼嚕的貓=ΦωΦ=  貼文時間: 2020-10-13T19:34:33.333Z  留言人數: 4  按讀人數: 22\n",
      "標題: 一個禮拜的不到⋯減肥的心路歷程  貼文時間: 2020-10-13T06:55:40.067Z  留言人數: 1  按讀人數: 17\n",
      "標題: 除了放空 我也很愛露眼白  貼文時間: 2020-10-14T05:33:02.392Z  留言人數: 5  按讀人數: 14\n",
      "標題: 哈比很討厭籠子怎麼辦？  貼文時間: 2020-10-13T06:16:12.185Z  留言人數: 5  按讀人數: 12\n",
      "標題: 這畫面太美😳😳😳  貼文時間: 2020-10-13T12:35:55.658Z  留言人數: 4  按讀人數: 11\n",
      "標題: 鬥魚就是這樣越養越多的（重發）  貼文時間: 2020-10-13T10:11:51.600Z  留言人數: 5  按讀人數: 10\n",
      "標題: 炫耀一下新窩  貼文時間: 2020-10-13T14:40:11.131Z  留言人數: 4  按讀人數: 9\n",
      "標題: 鼠寶長不大😢  貼文時間: 2020-10-13T18:54:01.666Z  留言人數: 8  按讀人數: 8\n",
      "標題: 心機努  貼文時間: 2020-10-13T14:13:38.953Z  留言人數: 1  按讀人數: 8\n",
      "標題: 連帶責任賠償  貼文時間: 2020-10-13T02:56:48.956Z  留言人數: 8  按讀人數: 8\n",
      "標題: 我是為你好阿  貼文時間: 2020-10-14T12:20:07.565Z  留言人數: 2  按讀人數: 7\n",
      "標題: 小貓沒社會化個性容易壞？  貼文時間: 2020-10-14T01:26:27.197Z  留言人數: 8  按讀人數: 7\n",
      "標題: 健身教練😼💪  貼文時間: 2020-10-14T07:40:59.937Z  留言人數: 3  按讀人數: 6\n",
      "標題: 貓貓  貼文時間: 2020-10-14T05:49:39.072Z  留言人數: 0  按讀人數: 6\n",
      "標題: 台中柯基聚會~  貼文時間: 2020-10-13T13:41:48.387Z  留言人數: 3  按讀人數: 6\n",
      "標題: 貓咪黑洞  貼文時間: 2020-10-13T14:31:42.986Z  留言人數: 1  按讀人數: 5\n"
     ]
    }
   ],
   "source": [
    "# 2. 取出每一筆資料的「標題」、「貼文時間」、「留言人數」、「按讚人數」\n",
    "\n",
    "\n",
    "\n",
    "\n",
    "for d in data:\n",
    "    print(\"標題:\",d[\"title\"],' 貼文時間:', d[\"createdAt\"], ' 留言人數:',d[\"commentCount\"],' 按讀人數:' ,d[\"likeCount\"] )  \n"
   ]
  },
  {
   "cell_type": "code",
   "execution_count": 4,
   "metadata": {},
   "outputs": [
    {
     "name": "stdout",
     "output_type": "stream",
     "text": [
      "平均留言人數: 16.733333333333334\n",
      "平均按讚人數: 190.46666666666667\n"
     ]
    }
   ],
   "source": [
    "# 3. 計算熱門/非熱門文章的「平均留言人數」與「平均按讚人數」\n",
    "avecomment=0\n",
    "x=0\n",
    "avelike=0\n",
    "\n",
    "for d in data:\n",
    "    avecomment=avecomment+d['commentCount']\n",
    "    avelike=avelike+d['likeCount']\n",
    "    x=x+1\n",
    "print(\"平均留言人數:\",avecomment/x)\n",
    "print(\"平均按讚人數:\",avelike/x)\n",
    "\n",
    "    "
   ]
  },
  {
   "cell_type": "code",
   "execution_count": null,
   "metadata": {},
   "outputs": [],
   "source": []
  },
  {
   "cell_type": "code",
   "execution_count": null,
   "metadata": {},
   "outputs": [],
   "source": []
  }
 ],
 "metadata": {
  "kernelspec": {
   "display_name": "Python 3",
   "language": "python",
   "name": "python3"
  },
  "language_info": {
   "codemirror_mode": {
    "name": "ipython",
    "version": 3
   },
   "file_extension": ".py",
   "mimetype": "text/x-python",
   "name": "python",
   "nbconvert_exporter": "python",
   "pygments_lexer": "ipython3",
   "version": "3.8.3"
  }
 },
 "nbformat": 4,
 "nbformat_minor": 2
}
