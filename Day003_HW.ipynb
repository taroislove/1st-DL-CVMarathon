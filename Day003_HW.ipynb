{
 "cells": [
  {
   "cell_type": "markdown",
   "metadata": {},
   "source": [
    "# Python 下載XML檔案與解析\n",
    "\n",
    "\n",
    "* 了解 xml 檔案格式與內容\n",
    "* 能夠利用套件存取 xml 格式的檔案\n"
   ]
  },
  {
   "cell_type": "markdown",
   "metadata": {},
   "source": [
    "## 作業目標\n",
    "\n",
    "* 比較一下範例檔案中的「File I/O」與「xmltodict」讀出來的內容有什麼差異\n",
    "\n",
    "* 根據範例檔案的結果：\n",
    "    1. 請問高雄市有多少地區有溫度資料？\n",
    "    2. 請取出每一個地區所記錄的第一個時間點跟溫度\n",
    "    3. 請取出第一個地區所記錄的每一個時間點跟溫度"
   ]
  },
  {
   "cell_type": "markdown",
   "metadata": {},
   "source": [
    "### 比較一下範例檔案中的「File I/O」與「xmltodict」讀出來的內容有什麼差異\n"
   ]
  },
  {
   "cell_type": "code",
   "execution_count": null,
   "metadata": {},
   "outputs": [],
   "source": [
    "'''\n",
    "xmltodict將資料存於記憶體解析在樹狀結構，通過對樹狀結構資料的解析取得所需要的資料。\n",
    "\n",
    "File I/O以範例為例，讀出dict格式\n",
    "{'CUPOY': OrderedDict([('Title', '爬蟲馬拉松'), ('Author', 'Wei'), ('Chapters', OrderedDict([('Chapter', [OrderedDict([('@name', '01'), ('#text', '資料來源與存取')]), OrderedDict([('@name', '02'), ('#text', '靜態網頁爬蟲')]), OrderedDict([('@name', '03'), ('#text', '動態網頁爬蟲')])])]))])}\n",
    "再依照Dict操作方式進行一層層的讀取。\n",
    "'''"
   ]
  },
  {
   "cell_type": "markdown",
   "metadata": {},
   "source": [
    "### 根據範例檔案的結果：\n",
    "\n",
    "1. 請問高雄市有多少地區有溫度資料？\n",
    "2. 請取出每一個地區所記錄的第一個時間點跟溫度\n",
    "3. 請取出第一個地區所記錄的每一個時間點跟溫度"
   ]
  },
  {
   "cell_type": "code",
   "execution_count": null,
   "metadata": {},
   "outputs": [],
   "source": [
    "#下載檔案\n",
    "import urllib.request\n",
    "import zipfile\n",
    "\n",
    "res=\"http://opendata.cwb.gov.tw/govdownload?dataid=F-D0047-093&authorizationkey=rdec-key-123-45678-011121314\"\n",
    "urllib.request.urlretrieve(res,\"./data/example.zip\")\n",
    "f=zipfile.ZipFile('./data/example.zip')\n",
    "f.extractall('./data')"
   ]
  },
  {
   "cell_type": "code",
   "execution_count": 3,
   "metadata": {},
   "outputs": [],
   "source": [
    "#觀察資料\n",
    "fh=open('./data/64_72hr_CH.xml', \"r\", encoding='utf8')\n",
    "xml=fh.read()\n",
    "fh.close()\n",
    "# print(xml)"
   ]
  },
  {
   "cell_type": "code",
   "execution_count": 56,
   "metadata": {},
   "outputs": [
    {
     "name": "stdout",
     "output_type": "stream",
     "text": [
      "高雄的地方資料數為: 38\n"
     ]
    }
   ],
   "source": [
    "# 1. 請問高雄市有多少地區有溫度資料？\n",
    "# 解析檔案內容\n",
    "import xmltodict\n",
    "with open('./data/64_72hr_CH.xml',encoding='utf8') as fd:\n",
    "    doc=dict(xmltodict.parse(fd.read()))\n",
    "# print(doc)\n",
    "\n",
    "#建立樹狀路徑中資料位置參數\n",
    "KSlocations=doc['cwbopendata']['dataset']['locations']['location']\n",
    "# print(KSlocations)\n",
    "\n",
    "#印出路徑中，location list中的資料筆數\n",
    "print('高雄的地方資料數為:',len(KSlocations))\n"
   ]
  },
  {
   "cell_type": "code",
   "execution_count": 106,
   "metadata": {},
   "outputs": [
    {
     "name": "stdout",
     "output_type": "stream",
     "text": [
      "鹽埕區 溫度為 33 度\n",
      "鼓山區 溫度為 33 度\n",
      "左營區 溫度為 33 度\n",
      "楠梓區 溫度為 34 度\n",
      "三民區 溫度為 32 度\n",
      "新興區 溫度為 33 度\n",
      "前金區 溫度為 33 度\n",
      "苓雅區 溫度為 33 度\n",
      "前鎮區 溫度為 33 度\n",
      "旗津區 溫度為 32 度\n",
      "小港區 溫度為 33 度\n",
      "鳳山區 溫度為 34 度\n",
      "林園區 溫度為 33 度\n",
      "大寮區 溫度為 34 度\n",
      "大樹區 溫度為 34 度\n",
      "大社區 溫度為 34 度\n",
      "仁武區 溫度為 33 度\n",
      "鳥松區 溫度為 34 度\n",
      "岡山區 溫度為 34 度\n",
      "橋頭區 溫度為 35 度\n",
      "燕巢區 溫度為 34 度\n",
      "田寮區 溫度為 34 度\n",
      "阿蓮區 溫度為 34 度\n",
      "路竹區 溫度為 33 度\n",
      "湖內區 溫度為 33 度\n",
      "茄萣區 溫度為 33 度\n",
      "永安區 溫度為 32 度\n",
      "彌陀區 溫度為 32 度\n",
      "梓官區 溫度為 32 度\n",
      "旗山區 溫度為 34 度\n",
      "美濃區 溫度為 34 度\n",
      "六龜區 溫度為 34 度\n",
      "甲仙區 溫度為 33 度\n",
      "杉林區 溫度為 36 度\n",
      "內門區 溫度為 34 度\n",
      "茂林區 溫度為 34 度\n",
      "桃源區 溫度為 31 度\n",
      "那瑪夏區 溫度為 29 度\n"
     ]
    }
   ],
   "source": [
    "# 2. 請取出每一個地區所記錄的第一個時間點跟溫度\n",
    "\n",
    "# 解析檔案內容\n",
    "import xmltodict\n",
    "with open('./data/64_72hr_CH.xml',encoding='utf8') as fd:\n",
    "    doc=dict(xmltodict.parse(fd.read()))\n",
    "# print(doc)\n",
    "\n",
    "#建立樹狀路徑中資料位置參數\n",
    "KSlocations=doc['cwbopendata']['dataset']['locations']['location']\n",
    "# print(KSlocations)\n",
    "\n",
    "#印出每一筆location的locationName及溫度\n",
    "for i in KSlocations:\n",
    "    print(i['locationName'],'溫度為',i['weatherElement'][0]['time'][0]['elementValue']['value'],'度')"
   ]
  },
  {
   "cell_type": "code",
   "execution_count": 107,
   "metadata": {},
   "outputs": [
    {
     "name": "stdout",
     "output_type": "stream",
     "text": [
      "鹽埕區\n",
      "時間: 2019-06-28T12:00:00+08:00 溫度為: 33 度\n",
      "時間: 2019-06-28T15:00:00+08:00 溫度為: 33 度\n",
      "時間: 2019-06-28T18:00:00+08:00 溫度為: 32 度\n",
      "時間: 2019-06-28T21:00:00+08:00 溫度為: 30 度\n",
      "時間: 2019-06-29T00:00:00+08:00 溫度為: 30 度\n",
      "時間: 2019-06-29T03:00:00+08:00 溫度為: 29 度\n",
      "時間: 2019-06-29T06:00:00+08:00 溫度為: 28 度\n",
      "時間: 2019-06-29T09:00:00+08:00 溫度為: 31 度\n",
      "時間: 2019-06-29T12:00:00+08:00 溫度為: 32 度\n",
      "時間: 2019-06-29T15:00:00+08:00 溫度為: 32 度\n",
      "時間: 2019-06-29T18:00:00+08:00 溫度為: 31 度\n",
      "時間: 2019-06-29T21:00:00+08:00 溫度為: 30 度\n",
      "時間: 2019-06-30T00:00:00+08:00 溫度為: 29 度\n",
      "時間: 2019-06-30T03:00:00+08:00 溫度為: 28 度\n",
      "時間: 2019-06-30T06:00:00+08:00 溫度為: 28 度\n",
      "時間: 2019-06-30T09:00:00+08:00 溫度為: 31 度\n",
      "時間: 2019-06-30T12:00:00+08:00 溫度為: 32 度\n",
      "時間: 2019-06-30T15:00:00+08:00 溫度為: 32 度\n",
      "時間: 2019-06-30T18:00:00+08:00 溫度為: 31 度\n",
      "時間: 2019-06-30T21:00:00+08:00 溫度為: 30 度\n",
      "時間: 2019-07-01T00:00:00+08:00 溫度為: 29 度\n",
      "時間: 2019-07-01T03:00:00+08:00 溫度為: 29 度\n",
      "時間: 2019-07-01T06:00:00+08:00 溫度為: 28 度\n",
      "時間: 2019-07-01T09:00:00+08:00 溫度為: 31 度\n"
     ]
    }
   ],
   "source": [
    "# 3. 請取出第一個地區所記錄的每一個時間點跟溫度\n",
    "\n",
    "\n",
    "# 解析檔案內容\n",
    "import xmltodict\n",
    "with open('./data/64_72hr_CH.xml',encoding='utf8') as fd:\n",
    "    doc=dict(xmltodict.parse(fd.read()))\n",
    "# print(doc)\n",
    "\n",
    "\n",
    "#建立樹狀路徑中資料位置參數\n",
    "KSlocations=doc['cwbopendata']['dataset']['locations']['location']\n",
    "# print(KSlocations)\n",
    "\n",
    "#取得第一個地區的資料位置\n",
    "FirstLocation=KSlocations[0]\n",
    "print(FirstLocation['locationName'])\n",
    "\n",
    "#取得第一個地區的天氣資訊及時間\n",
    "weatherelement=FirstLocation['weatherElement'][0]['time']\n",
    "# print(weatherelement)\n",
    "\n",
    "#印出每個time項目下的 dataTime及溫度(value)\n",
    "for j in weatherelement:\n",
    "    print('時間:',j['dataTime'],'溫度為:', j['elementValue']['value'],'度')"
   ]
  },
  {
   "cell_type": "code",
   "execution_count": null,
   "metadata": {},
   "outputs": [],
   "source": []
  }
 ],
 "metadata": {
  "kernelspec": {
   "display_name": "Python 3",
   "language": "python",
   "name": "python3"
  },
  "language_info": {
   "codemirror_mode": {
    "name": "ipython",
    "version": 3
   },
   "file_extension": ".py",
   "mimetype": "text/x-python",
   "name": "python",
   "nbconvert_exporter": "python",
   "pygments_lexer": "ipython3",
   "version": "3.8.3"
  }
 },
 "nbformat": 4,
 "nbformat_minor": 2
}
